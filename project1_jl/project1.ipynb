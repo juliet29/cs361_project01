{
 "cells": [
  {
   "cell_type": "code",
   "execution_count": 90,
   "metadata": {},
   "outputs": [],
   "source": [
    "# Pkg.add(\"PlotlyJS\")\n",
    "using Statistics\n",
    "using Plots\n",
    "using Symbolics\n",
    "using LinearAlgebra\n",
    "using Printf\n",
    "# using PGFPlotsX\n",
    "using PlotlyJS\n",
    "using Kal"
   ]
  },
  {
   "cell_type": "markdown",
   "metadata": {},
   "source": [
    "# Helper Functions"
   ]
  },
  {
   "cell_type": "code",
   "execution_count": 53,
   "metadata": {},
   "outputs": [
    {
     "data": {
      "text/plain": [
       "line_search (generic function with 1 method)"
      ]
     },
     "metadata": {},
     "output_type": "display_data"
    }
   ],
   "source": [
    "# could also replace with decaying α\n",
    "\n",
    "# function line_search(f,x,d)\n",
    "#     objective = α -> f(x .+ α*d)\n",
    "#     # print(\"obj \", objective)\n",
    "#     bracket_minimum(objective, x)\n",
    "#     α = minimize(objective, a, b)\n",
    "#     return x .+ α*d \n",
    "# end\n",
    "\n",
    "# # f([x1, x2, x3]) = sin(x1 * x2) + exp(x2 + x3) - x3\n",
    "# f(x) = sin(x[1] * x[2]) + exp(x[2] + x[3]) - x[3]\n",
    "function bracket_minimum(f, x=0, s=1e-2, k=2)\n",
    "    \"\"\"Used for univariate problems\"\"\"\n",
    "    a, ya = x, f(x)\n",
    "    b, yb = a .+ s, f(a .+ s)\n",
    "    print(\"\\n yb \", yb, \" ya \", ya)\n",
    "    if yb > ya\n",
    "        # switch b to be moving closer to the minimum\n",
    "        a, b = b, a\n",
    "        ya, yb = yb, ya\n",
    "        # switch direction we are moving in \n",
    "        s = -s\n",
    "    end\n",
    "    while true\n",
    "        # moving b along, taking steps past b, and calling it c\n",
    "        c, yc = b + s, f(b + s)\n",
    "        if yc > yb\n",
    "            # yc should be moving into the valley, so if its > b, probably going up a hill.. switch a and c\n",
    "            return a < c ? (a, c) : (c, a)\n",
    "        end\n",
    "        # move all the vals over, a ->b, b -> c \n",
    "        a, ya, b, yb = b, yb, c, yc\n",
    "        # double the step size\n",
    "        s*=k\n",
    "    end\n",
    "end\n",
    "\n",
    "function golden_section_search(f, a, b, n)\n",
    "    \"minimize univariate function, given an a bracket interval defined by a and b within n iterations\"\n",
    "    φ = MathConstants.golden\n",
    "    ρ = φ - 1\n",
    "    d = ρ * b + (1 - ρ)*a\n",
    "    yd = f(d)\n",
    "    for i = 1: n -1\n",
    "        c = ρ*a + (1 - ρ)*b\n",
    "        yc = f(c)\n",
    "        if yc < yd\n",
    "            b, d, yd = d, c, yc\n",
    "        else\n",
    "            a,b = b, c\n",
    "        end\n",
    "    end\n",
    "    return a < b ? (a,b) : (b,a)\n",
    "end\n",
    "\n",
    "function interval_middle(a,b)\n",
    "    \"get the value at the center of an interval\"\n",
    "    return (a+b)/2\n",
    "end\n",
    "\n",
    "function minimize(f, a, b, n=10)\n",
    "    \"golden section search returning center of an interval\"\n",
    "    low, high = golden_section_search(f, a, b, n)\n",
    "    return interval_middle(low, high)\n",
    "end\n",
    "\n",
    "function line_search(f,x,d)\n",
    "    objective = α -> f(x + α * d)\n",
    "    # print(f(x), ' ', x, ' ', d, '\\n')\n",
    "    # ccall(:jl_exit, Cvoid, (Int32,), 86)\n",
    "    a, b = bracket_minimum(objective)\n",
    "    # print('\\n', a, ' ', b)\n",
    "    α = minimize(objective, a, b)\n",
    "    # print(x + α * d, ' ',  x, ' ', α, ' ', d)\n",
    "    return x + α * d \n",
    "end\n",
    "\n",
    "function line_search_fix_alpha(f,x,d, iter=1)\n",
    "    objective = α -> f(x + α * d)\n",
    "    # print(f(x), ' ', x, ' ', d, '\\n')\n",
    "    # ccall(:jl_exit, Cvoid, (Int32,), 86)\n",
    "    a, b = bracket_minimum(objective)\n",
    "    # print('\\n', a, ' ', b)\n",
    "    α = minimize(objective, a, b)\n",
    "    if iter > 1\n",
    "        α = α\n",
    "    end\n",
    "    # print(x + α * d, ' ',  x, ' ', α, ' ', d)\n",
    "    return x + α * d \n",
    "end\n",
    "\n",
    "\n",
    "\n",
    "# minimize: to do implement brent dekker or golden section search \n",
    "\n",
    "\n",
    "\n",
    "# ccall(:jl_exit, Cvoid, (Int32,), 86)\n",
    "\n",
    "# f(x) = sin(x[1] * x[2]) + exp(x[2] + x[3]) - x[3]\n",
    "\n",
    "# line_search(f, [1,2,3], [0,-1,-1])\n",
    "# line_search(f, [1,2,3], [0,-1,-1])\n",
    "\n",
    "# d = 12\n",
    "# α = 2\n",
    "# objective = α -> f(x + α*d)"
   ]
  },
  {
   "cell_type": "markdown",
   "metadata": {},
   "source": [
    "# BFGS Implementation"
   ]
  },
  {
   "cell_type": "code",
   "execution_count": 81,
   "metadata": {},
   "outputs": [
    {
     "data": {
      "text/plain": [
       "init! (generic function with 1 method)"
      ]
     },
     "metadata": {},
     "output_type": "display_data"
    }
   ],
   "source": [
    "mutable struct BFGS\n",
    "    Q #modifying matrix\n",
    "end \n",
    "\n",
    "function init!(M::BFGS, x)\n",
    "    # initialize matrix Q with the identity matrix\n",
    "    # will have dimensions of m * m, wher m is the size of input vector x\n",
    "    m = length(x)\n",
    "    M.Q = Matrix(1.0*I, m, m)\n",
    "    return M\n",
    "end"
   ]
  },
  {
   "cell_type": "code",
   "execution_count": 96,
   "metadata": {},
   "outputs": [
    {
     "data": {
      "text/plain": [
       "step! (generic function with 1 method)"
      ]
     },
     "metadata": {},
     "output_type": "display_data"
    }
   ],
   "source": [
    "function step!(M::BFGS, f, ∇f, x)\n",
    "        Q, g = M.Q, ∇f(x)\n",
    "        # print(\"x: \", x, \" Q: \", Q, \", g: \", ∇f(x))\n",
    "        # print(\" f: \", f, \" x: \", x, \" -Q*g \", -Q*g)\n",
    "       \n",
    "        x′ = line_search(f, x, -Q*g)\n",
    "        # print(\"\\n x′ 0 : \", x′, \"\\n\")\n",
    "        g′ = ∇f(x′)\n",
    "        # print(\"\\n g′ 0 : \", g′, \"\\n\")\n",
    "\n",
    "        δ = x′ - x\n",
    "        γ = g′ - g\n",
    "        # print(\"\\n δ : \", δ, \"\\n\")\n",
    "        # print(\"\\n γ : \", γ, \"\\n\")\n",
    "        # print(\"\\n Q_init : \", Q, \"\\n\")\n",
    "        \n",
    "        Q[:] = Q - (δ*γ'*Q + Q*γ*δ')/(δ'*γ) + (1 + (γ'*Q*γ)/(δ'*γ))[1] * (δ*δ')/(δ'*γ)\n",
    "\n",
    "        # print(\"\\n Q : \", Q, \"\\n\")\n",
    "        # print(\"x′ 1 : \", x′, \"\\n\")\n",
    "        return x′\n",
    "end"
   ]
  },
  {
   "cell_type": "code",
   "execution_count": 106,
   "metadata": {},
   "outputs": [
    {
     "name": "stdout",
     "output_type": "stream",
     "text": [
      "\n",
      " yb 6.761130123764031 ya 146.32245652940227"
     ]
    },
    {
     "data": {
      "text/plain": [
       "3-element Vector{Float64}:\n",
       "  1.0210488700796805\n",
       " -1.1344591916403948\n",
       " -0.13424641564501893"
      ]
     },
     "metadata": {},
     "output_type": "display_data"
    }
   ],
   "source": [
    "function quadratic(x)\n",
    "    return x^2\n",
    "end\n",
    "\n",
    "function grad_quadratic(x)\n",
    "    return 2*x \n",
    "end\n",
    "\n",
    "f(x) = sin(x[1] * x[2]) + exp(x[2] + x[3]) - x[3]\n",
    "f′(x) = [cos(x[1] + x[2]), cos(x[1] + x[2]) + exp(x[2] + x[3]), exp(x[2] + x[3]) - 1]\n",
    "\n",
    "\n",
    "testM = BFGS(undef)\n",
    "myx = [1,2,3]\n",
    "myM = init!(testM, myx)\n",
    "# step!(myM, quadratic, grad_quadratic, [2])\n",
    "step!(myM, f, f′, myx)\n"
   ]
  },
  {
   "cell_type": "markdown",
   "metadata": {},
   "source": [
    "# Optimization"
   ]
  },
  {
   "cell_type": "code",
   "execution_count": 108,
   "metadata": {},
   "outputs": [
    {
     "data": {
      "text/plain": [
       "optimize"
      ]
     },
     "metadata": {},
     "output_type": "display_data"
    }
   ],
   "source": [
    "\n",
    "\"\"\"\n",
    "optimize(f, g, x0, n, prob)\n",
    "\n",
    "Arguments:\n",
    "- `f`: Function to be optimized\n",
    "- `g`: Gradient function for `f`\n",
    "- `x0`: (Vector) Initial position to start from\n",
    "- `n`: (Int) Number of evaluations allowed. Remember `g` costs twice of `f`\n",
    "- `prob`: (String) Name of the problem. So you can use a different strategy for each problem. E.g. \"simple1\", \"secret2\", etc.\n",
    "\n",
    "Returns:\n",
    "- The location of the minimum\n",
    "\"\"\"\n",
    "function optimize(f, g, x0, n, prob)\n",
    "    # using a problem agnostic BFGS method\n",
    "    # starting matrix to be initialized \n",
    "    undef_m = BFGS(undef)\n",
    "    init_m = init!(undef_m, myx)\n",
    "\n",
    "    # take a step with BFGS \n",
    "    x_best = step!(init_m, f, g, x0)\n",
    "   \n",
    "    return x_best\n",
    "end"
   ]
  },
  {
   "cell_type": "markdown",
   "metadata": {},
   "source": [
    "# Functions and their Gradients.."
   ]
  },
  {
   "cell_type": "code",
   "execution_count": 46,
   "metadata": {},
   "outputs": [
    {
     "data": {
      "text/latex": [
       "\\begin{equation}\n",
       "\\left[\n",
       "\\begin{array}{c}\n",
       "\\cos\\left( x + y \\right) \\\\\n",
       "\\cos\\left( x + y \\right) + e^{y + z} \\\\\n",
       "-1 + e^{y + z} \\\\\n",
       "\\end{array}\n",
       "\\right]\n",
       "\\end{equation}\n"
      ],
      "text/plain": [
       "3-element Vector{Num}:\n",
       "    cos(x + y)\n",
       " cos(x + y) + exp(y + z)\n",
       "              exp(y + z) - 1"
      ]
     },
     "metadata": {},
     "output_type": "display_data"
    }
   ],
   "source": [
    "# just looking at the gradoent\n",
    "@variables x y z\n",
    "f′(x,y,z) = [cos(x + y), cos(x + y) + exp(y + z), exp(y + z) - 1]\n",
    "# f′(x) = [cos(x[1] + x[2]), cos(x[1] + x[2]) + exp(x[2] + x[3]), exp(x[2] + x[3]) -1]\n",
    "f′(x,y,z)"
   ]
  },
  {
   "cell_type": "code",
   "execution_count": 12,
   "metadata": {},
   "outputs": [
    {
     "data": {
      "text/plain": [
       "rosenbrock (generic function with 1 method)"
      ]
     },
     "metadata": {},
     "output_type": "display_data"
    }
   ],
   "source": [
    "function rosenbrock(x::Vector)\n",
    "    return (1.0 - x[1])^2 + 100.0 * (x[2] - x[1]^2)^2\n",
    "end"
   ]
  },
  {
   "cell_type": "markdown",
   "metadata": {},
   "source": [
    "# Plot"
   ]
  },
  {
   "cell_type": "code",
   "execution_count": 194,
   "metadata": {},
   "outputs": [
    {
     "data": {
      "text/plain": [
       "10-element Vector{Any}:\n",
       "  1\n",
       "  2\n",
       "  3\n",
       "  4\n",
       "  5\n",
       "  6\n",
       "  7\n",
       "  8\n",
       "  9\n",
       " 10"
      ]
     },
     "metadata": {},
     "output_type": "display_data"
    }
   ],
   "source": [
    "b = []\n",
    "for i in range(1,10)\n",
    "    push!(b, i)\n",
    "    \n",
    "end\n",
    "b"
   ]
  },
  {
   "cell_type": "code",
   "execution_count": 146,
   "metadata": {},
   "outputs": [
    {
     "data": {
      "text/plain": [
       "11×11 Matrix{Float64}:\n",
       " 1412.5   1196.5   998.5   818.5   656.5   …  188.5       116.5    62.5\n",
       "  869.2    701.8   552.4   421.0   307.6       34.0        10.6     5.2\n",
       "  537.22   407.62  296.02  202.42  126.82       4.42       18.82   51.22\n",
       "  348.52   245.92  161.32   94.72   46.12      31.72       73.12  132.52\n",
       "  254.5    168.1    99.7    49.3    16.9       67.3       124.9   200.5\n",
       "  226.0    145.0    82.0    37.0    10.0   …   82.0       145.0   226.0\n",
       "  253.3    166.9    98.5    48.1    15.7       66.1       123.7   199.3\n",
       "  346.12   243.52  158.92   92.32   43.72      29.32       70.72  130.12\n",
       "  533.62   404.02  292.42  198.82  123.22       0.820001   15.22   47.62\n",
       "  864.4    697.0   547.6   416.2   302.8       29.2         5.8     0.399999\n",
       " 1406.5   1190.5   992.5   812.5   650.5   …  182.5       110.5    56.5"
      ]
     },
     "metadata": {},
     "output_type": "display_data"
    }
   ],
   "source": [
    "# make contour \n",
    "my_range = range(-5, 5)\n",
    "\n",
    "a = zeros(Float32, length(my_range), 2)\n",
    "a[:,1] = 0.3*my_range\n",
    "a[:,2] = 0.3*my_range\n",
    "A = [rosenbrock([x1, x2]) for x1=a[:,1], x2=a[:,2]]"
   ]
  },
  {
   "cell_type": "code",
   "execution_count": 129,
   "metadata": {},
   "outputs": [
    {
     "data": {
      "text/plain": [
       "2-element Vector{Float64}:\n",
       " 0.9627677544110731\n",
       " 0.11867994531271409"
      ]
     },
     "metadata": {},
     "output_type": "display_data"
    }
   ],
   "source": [
    "x_o = [-0.48993012686076465, 0.9627677544110731] \n",
    "x_best = [-0.7790026144206841, 0.11867994531271409]\n",
    "\n",
    "x_el = [x_o[1], x_best[1]]\n",
    "y_el = [x_o[2], x_best[2]]"
   ]
  },
  {
   "cell_type": "code",
   "execution_count": 174,
   "metadata": {},
   "outputs": [
    {
     "data": {
      "text/plain": [
       "make_trace (generic function with 1 method)"
      ]
     },
     "metadata": {},
     "output_type": "display_data"
    }
   ],
   "source": [
    "function make_trace(x_o, x_best)\n",
    "    x_el = [x_o[1], x_best[1]]\n",
    "    y_el = [x_o[2], x_best[2]]\n",
    "    trace = PlotlyJS.scatter(x=x_el, y=y_el, mode=\"markers+lines\", line_color=\"black\", showlegend=false)\n",
    "    return trace\n",
    "end"
   ]
  },
  {
   "cell_type": "code",
   "execution_count": 167,
   "metadata": {},
   "outputs": [
    {
     "data": {
      "text/plain": [
       "contour with fields contours, line, transpose, type, x, y, and z\n"
      ]
     },
     "metadata": {},
     "output_type": "display_data"
    }
   ],
   "source": [
    "plotlyjs()\n",
    "\n",
    "mycontour = PlotlyJS.contour(\n",
    "    x=a[:,1],\n",
    "    y=a[:,2],\n",
    "    z=A,\n",
    "    contours_coloring=\"lines\",\n",
    "    line_width=2,\n",
    "    contours=attr(\n",
    "        coloring =\"heatmap\",\n",
    "        showlabels = true, # show labels on contours\n",
    "        labelfont = attr( # label font properties\n",
    "            size = 12,\n",
    "            color = \"white\",\n",
    "        )\n",
    "    )\n",
    ")"
   ]
  },
  {
   "cell_type": "code",
   "execution_count": 180,
   "metadata": {},
   "outputs": [
    {
     "data": {
      "application/vnd.plotly.v1+json": {
       "config": {
        "editable": false,
        "responsive": true,
        "scrollZoom": true,
        "showLink": false,
        "staticPlot": false
       },
       "data": [
        {
         "contours": {
          "coloring": "heatmap",
          "labelfont": {
           "color": "white",
           "size": 12
          },
          "showlabels": true
         },
         "line": {
          "width": 2
         },
         "transpose": true,
         "type": "contour",
         "x": [
          -1.5,
          -1.2,
          -0.9,
          -0.6,
          -0.3,
          0,
          0.3,
          0.6,
          0.9,
          1.2,
          1.5
         ],
         "y": [
          -1.5,
          -1.2,
          -0.9,
          -0.6,
          -0.3,
          0,
          0.3,
          0.6,
          0.9,
          1.2,
          1.5
         ],
         "z": [
          [
           1412.5,
           869.200046596527,
           537.2199623727798,
           348.51999725341796,
           254.50000140428543,
           226,
           253.3000013566017,
           346.1199971580505,
           533.6199624681473,
           864.4000464057922,
           1406.5
          ],
          [
           1196.500015258789,
           701.8000679588317,
           407.6200096750259,
           245.9200188064575,
           168.10001704454422,
           145.0000057220459,
           166.9000169968605,
           243.52001871109007,
           404.02000977039336,
           697.0000677680969,
           1190.500015258789
          ],
          [
           998.5000610351562,
           552.4000721549987,
           296.0199682855606,
           161.31999935150145,
           99.70000359773636,
           81.9999942779541,
           98.50000355005264,
           158.91999925613402,
           292.419968380928,
           547.6000719642639,
           992.5000610351562
          ],
          [
           818.4999465942383,
           420.99996381759644,
           202.41999317646025,
           94.72000445365906,
           49.300008747577664,
           37.000001430511475,
           48.10000869989395,
           92.32000435829163,
           198.81999327182768,
           416.1999636268616,
           812.4999465942383
          ],
          [
           656.4999580383301,
           307.60000520706177,
           126.81997705936432,
           46.12000431060791,
           16.90000120162964,
           10.000000357627869,
           15.700001153945923,
           43.72000421524048,
           123.21997715473175,
           302.8000050163269,
           650.4999580383301
          ],
          [
           512.5,
           212.2000055885315,
           69.2199914598465,
           15.520000412464142,
           2.5000000520050527,
           1,
           1.3000000043213369,
           13.12000031709671,
           65.61999155521393,
           207.40000539779663,
           506.5
          ],
          [
           386.5000247955322,
           134.8000245666504,
           29.61999167442322,
           2.9200000933930284,
           6.1000005489587785,
           10.000000357627869,
           4.900000501275063,
           0.5199999980255967,
           26.01999176979065,
           130.00002437591553,
           380.5000247955322
          ],
          [
           278.49998474121094,
           75.40000849723816,
           8.019996329545975,
           8.320000349879265,
           27.69999775648117,
           37.000001430511475,
           26.499997708797455,
           5.920000254511834,
           4.419996424913407,
           70.6000083065033,
           272.49998474121094
          ],
          [
           188.50001096725464,
           34.00000804424286,
           4.420000489205123,
           31.7199959897995,
           67.29999158143997,
           81.9999942779541,
           66.09999153375625,
           29.31999589443207,
           0.8200005845725542,
           29.200007853507998,
           182.50001096725464
          ],
          [
           116.49998426437378,
           10.600000483393671,
           18.82000853061676,
           73.12000836372376,
           124.9000010228157,
           145.0000057220459,
           123.70000097513199,
           70.72000826835632,
           15.220008625984192,
           5.800000292658808,
           110.49998426437378
          ],
          [
           62.5,
           5.199999528415503,
           51.22000862598419,
           132.52000059127806,
           200.49999329805374,
           226,
           199.29999325037002,
           130.12000049591063,
           47.620008721351624,
           0.3999993376806401,
           56.5
          ]
         ]
        },
        {
         "line": {
          "color": "black"
         },
         "mode": "markers+lines",
         "showlegend": false,
         "type": "scatter",
         "x": [
          -0.48993012686076465,
          -0.7790026144206841
         ],
         "y": [
          0.9627677544110731,
          0.11867994531271409
         ]
        },
        {
         "line": {
          "color": "black"
         },
         "mode": "markers+lines",
         "showlegend": false,
         "type": "scatter",
         "x": [
          -0.2944566095565206,
          -0.37239833237751757
         ],
         "y": [
          1.0284222436351078,
          0.14658808251570787
         ]
        },
        {
         "line": {
          "color": "black"
         },
         "mode": "markers+lines",
         "showlegend": false,
         "type": "scatter",
         "x": [
          1.4175309969426104,
          -0.07040497078645454
         ],
         "y": [
          -0.10287435201396039,
          0.007803260170605078
         ]
        }
       ],
       "frames": [],
       "layout": {
        "margin": {
         "b": 50,
         "l": 50,
         "r": 50,
         "t": 60
        },
        "template": {
         "data": {
          "bar": [
           {
            "error_x": {
             "color": "#2a3f5f"
            },
            "error_y": {
             "color": "#2a3f5f"
            },
            "marker": {
             "line": {
              "color": "#E5ECF6",
              "width": 0.5
             }
            },
            "type": "bar"
           }
          ],
          "barpolar": [
           {
            "marker": {
             "line": {
              "color": "#E5ECF6",
              "width": 0.5
             }
            },
            "type": "barpolar"
           }
          ],
          "carpet": [
           {
            "aaxis": {
             "endlinecolor": "#2a3f5f",
             "gridcolor": "white",
             "linecolor": "white",
             "minorgridcolor": "white",
             "startlinecolor": "#2a3f5f"
            },
            "baxis": {
             "endlinecolor": "#2a3f5f",
             "gridcolor": "white",
             "linecolor": "white",
             "minorgridcolor": "white",
             "startlinecolor": "#2a3f5f"
            },
            "type": "carpet"
           }
          ],
          "choropleth": [
           {
            "colorbar": {
             "outlinewidth": 0,
             "ticks": ""
            },
            "type": "choropleth"
           }
          ],
          "contour": [
           {
            "colorbar": {
             "outlinewidth": 0,
             "ticks": ""
            },
            "colorscale": [
             [
              0,
              "#0d0887"
             ],
             [
              0.1111111111111111,
              "#46039f"
             ],
             [
              0.2222222222222222,
              "#7201a8"
             ],
             [
              0.3333333333333333,
              "#9c179e"
             ],
             [
              0.4444444444444444,
              "#bd3786"
             ],
             [
              0.5555555555555556,
              "#d8576b"
             ],
             [
              0.6666666666666666,
              "#ed7953"
             ],
             [
              0.7777777777777778,
              "#fb9f3a"
             ],
             [
              0.8888888888888888,
              "#fdca26"
             ],
             [
              1,
              "#f0f921"
             ]
            ],
            "type": "contour"
           }
          ],
          "contourcarpet": [
           {
            "colorbar": {
             "outlinewidth": 0,
             "ticks": ""
            },
            "type": "contourcarpet"
           }
          ],
          "heatmap": [
           {
            "colorbar": {
             "outlinewidth": 0,
             "ticks": ""
            },
            "colorscale": [
             [
              0,
              "#0d0887"
             ],
             [
              0.1111111111111111,
              "#46039f"
             ],
             [
              0.2222222222222222,
              "#7201a8"
             ],
             [
              0.3333333333333333,
              "#9c179e"
             ],
             [
              0.4444444444444444,
              "#bd3786"
             ],
             [
              0.5555555555555556,
              "#d8576b"
             ],
             [
              0.6666666666666666,
              "#ed7953"
             ],
             [
              0.7777777777777778,
              "#fb9f3a"
             ],
             [
              0.8888888888888888,
              "#fdca26"
             ],
             [
              1,
              "#f0f921"
             ]
            ],
            "type": "heatmap"
           }
          ],
          "heatmapgl": [
           {
            "colorbar": {
             "outlinewidth": 0,
             "ticks": ""
            },
            "colorscale": [
             [
              0,
              "#0d0887"
             ],
             [
              0.1111111111111111,
              "#46039f"
             ],
             [
              0.2222222222222222,
              "#7201a8"
             ],
             [
              0.3333333333333333,
              "#9c179e"
             ],
             [
              0.4444444444444444,
              "#bd3786"
             ],
             [
              0.5555555555555556,
              "#d8576b"
             ],
             [
              0.6666666666666666,
              "#ed7953"
             ],
             [
              0.7777777777777778,
              "#fb9f3a"
             ],
             [
              0.8888888888888888,
              "#fdca26"
             ],
             [
              1,
              "#f0f921"
             ]
            ],
            "type": "heatmapgl"
           }
          ],
          "histogram": [
           {
            "marker": {
             "colorbar": {
              "outlinewidth": 0,
              "ticks": ""
             }
            },
            "type": "histogram"
           }
          ],
          "histogram2d": [
           {
            "colorbar": {
             "outlinewidth": 0,
             "ticks": ""
            },
            "colorscale": [
             [
              0,
              "#0d0887"
             ],
             [
              0.1111111111111111,
              "#46039f"
             ],
             [
              0.2222222222222222,
              "#7201a8"
             ],
             [
              0.3333333333333333,
              "#9c179e"
             ],
             [
              0.4444444444444444,
              "#bd3786"
             ],
             [
              0.5555555555555556,
              "#d8576b"
             ],
             [
              0.6666666666666666,
              "#ed7953"
             ],
             [
              0.7777777777777778,
              "#fb9f3a"
             ],
             [
              0.8888888888888888,
              "#fdca26"
             ],
             [
              1,
              "#f0f921"
             ]
            ],
            "type": "histogram2d"
           }
          ],
          "histogram2dcontour": [
           {
            "colorbar": {
             "outlinewidth": 0,
             "ticks": ""
            },
            "colorscale": [
             [
              0,
              "#0d0887"
             ],
             [
              0.1111111111111111,
              "#46039f"
             ],
             [
              0.2222222222222222,
              "#7201a8"
             ],
             [
              0.3333333333333333,
              "#9c179e"
             ],
             [
              0.4444444444444444,
              "#bd3786"
             ],
             [
              0.5555555555555556,
              "#d8576b"
             ],
             [
              0.6666666666666666,
              "#ed7953"
             ],
             [
              0.7777777777777778,
              "#fb9f3a"
             ],
             [
              0.8888888888888888,
              "#fdca26"
             ],
             [
              1,
              "#f0f921"
             ]
            ],
            "type": "histogram2dcontour"
           }
          ],
          "mesh3d": [
           {
            "colorbar": {
             "outlinewidth": 0,
             "ticks": ""
            },
            "type": "mesh3d"
           }
          ],
          "parcoords": [
           {
            "line": {
             "colorbar": {
              "outlinewidth": 0,
              "ticks": ""
             }
            },
            "type": "parcoords"
           }
          ],
          "pie": [
           {
            "automargin": true,
            "type": "pie"
           }
          ],
          "scatter": [
           {
            "marker": {
             "colorbar": {
              "outlinewidth": 0,
              "ticks": ""
             }
            },
            "type": "scatter"
           }
          ],
          "scatter3d": [
           {
            "line": {
             "colorbar": {
              "outlinewidth": 0,
              "ticks": ""
             }
            },
            "marker": {
             "colorbar": {
              "outlinewidth": 0,
              "ticks": ""
             }
            },
            "type": "scatter3d"
           }
          ],
          "scattercarpet": [
           {
            "marker": {
             "colorbar": {
              "outlinewidth": 0,
              "ticks": ""
             }
            },
            "type": "scattercarpet"
           }
          ],
          "scattergeo": [
           {
            "marker": {
             "colorbar": {
              "outlinewidth": 0,
              "ticks": ""
             }
            },
            "type": "scattergeo"
           }
          ],
          "scattergl": [
           {
            "marker": {
             "colorbar": {
              "outlinewidth": 0,
              "ticks": ""
             }
            },
            "type": "scattergl"
           }
          ],
          "scattermapbox": [
           {
            "marker": {
             "colorbar": {
              "outlinewidth": 0,
              "ticks": ""
             }
            },
            "type": "scattermapbox"
           }
          ],
          "scatterpolar": [
           {
            "marker": {
             "colorbar": {
              "outlinewidth": 0,
              "ticks": ""
             }
            },
            "type": "scatterpolar"
           }
          ],
          "scatterpolargl": [
           {
            "marker": {
             "colorbar": {
              "outlinewidth": 0,
              "ticks": ""
             }
            },
            "type": "scatterpolargl"
           }
          ],
          "scatterternary": [
           {
            "marker": {
             "colorbar": {
              "outlinewidth": 0,
              "ticks": ""
             }
            },
            "type": "scatterternary"
           }
          ],
          "surface": [
           {
            "colorbar": {
             "outlinewidth": 0,
             "ticks": ""
            },
            "colorscale": [
             [
              0,
              "#0d0887"
             ],
             [
              0.1111111111111111,
              "#46039f"
             ],
             [
              0.2222222222222222,
              "#7201a8"
             ],
             [
              0.3333333333333333,
              "#9c179e"
             ],
             [
              0.4444444444444444,
              "#bd3786"
             ],
             [
              0.5555555555555556,
              "#d8576b"
             ],
             [
              0.6666666666666666,
              "#ed7953"
             ],
             [
              0.7777777777777778,
              "#fb9f3a"
             ],
             [
              0.8888888888888888,
              "#fdca26"
             ],
             [
              1,
              "#f0f921"
             ]
            ],
            "type": "surface"
           }
          ],
          "table": [
           {
            "cells": {
             "fill": {
              "color": "#EBF0F8"
             },
             "line": {
              "color": "white"
             }
            },
            "header": {
             "fill": {
              "color": "#C8D4E3"
             },
             "line": {
              "color": "white"
             }
            },
            "type": "table"
           }
          ]
         },
         "layout": {
          "annotationdefaults": {
           "arrowcolor": "#2a3f5f",
           "arrowhead": 0,
           "arrowwidth": 1
          },
          "autotypenumbers": "strict",
          "coloraxis": {
           "colorbar": {
            "outlinewidth": 0,
            "ticks": ""
           }
          },
          "colorscale": {
           "diverging": [
            [
             0,
             "#8e0152"
            ],
            [
             0.1,
             "#c51b7d"
            ],
            [
             0.2,
             "#de77ae"
            ],
            [
             0.3,
             "#f1b6da"
            ],
            [
             0.4,
             "#fde0ef"
            ],
            [
             0.5,
             "#f7f7f7"
            ],
            [
             0.6,
             "#e6f5d0"
            ],
            [
             0.7,
             "#b8e186"
            ],
            [
             0.8,
             "#7fbc41"
            ],
            [
             0.9,
             "#4d9221"
            ],
            [
             1,
             "#276419"
            ]
           ],
           "sequential": [
            [
             0,
             "#0d0887"
            ],
            [
             0.1111111111111111,
             "#46039f"
            ],
            [
             0.2222222222222222,
             "#7201a8"
            ],
            [
             0.3333333333333333,
             "#9c179e"
            ],
            [
             0.4444444444444444,
             "#bd3786"
            ],
            [
             0.5555555555555556,
             "#d8576b"
            ],
            [
             0.6666666666666666,
             "#ed7953"
            ],
            [
             0.7777777777777778,
             "#fb9f3a"
            ],
            [
             0.8888888888888888,
             "#fdca26"
            ],
            [
             1,
             "#f0f921"
            ]
           ],
           "sequentialminus": [
            [
             0,
             "#0d0887"
            ],
            [
             0.1111111111111111,
             "#46039f"
            ],
            [
             0.2222222222222222,
             "#7201a8"
            ],
            [
             0.3333333333333333,
             "#9c179e"
            ],
            [
             0.4444444444444444,
             "#bd3786"
            ],
            [
             0.5555555555555556,
             "#d8576b"
            ],
            [
             0.6666666666666666,
             "#ed7953"
            ],
            [
             0.7777777777777778,
             "#fb9f3a"
            ],
            [
             0.8888888888888888,
             "#fdca26"
            ],
            [
             1,
             "#f0f921"
            ]
           ]
          },
          "colorway": [
           "#636efa",
           "#EF553B",
           "#00cc96",
           "#ab63fa",
           "#FFA15A",
           "#19d3f3",
           "#FF6692",
           "#B6E880",
           "#FF97FF",
           "#FECB52"
          ],
          "font": {
           "color": "#2a3f5f"
          },
          "geo": {
           "bgcolor": "white",
           "lakecolor": "white",
           "landcolor": "#E5ECF6",
           "showlakes": true,
           "showland": true,
           "subunitcolor": "white"
          },
          "hoverlabel": {
           "align": "left"
          },
          "hovermode": "closest",
          "mapbox": {
           "style": "light"
          },
          "paper_bgcolor": "white",
          "plot_bgcolor": "#E5ECF6",
          "polar": {
           "angularaxis": {
            "gridcolor": "white",
            "linecolor": "white",
            "ticks": ""
           },
           "bgcolor": "#E5ECF6",
           "radialaxis": {
            "gridcolor": "white",
            "linecolor": "white",
            "ticks": ""
           }
          },
          "scene": {
           "xaxis": {
            "backgroundcolor": "#E5ECF6",
            "gridcolor": "white",
            "gridwidth": 2,
            "linecolor": "white",
            "showbackground": true,
            "ticks": "",
            "zerolinecolor": "white"
           },
           "yaxis": {
            "backgroundcolor": "#E5ECF6",
            "gridcolor": "white",
            "gridwidth": 2,
            "linecolor": "white",
            "showbackground": true,
            "ticks": "",
            "zerolinecolor": "white"
           },
           "zaxis": {
            "backgroundcolor": "#E5ECF6",
            "gridcolor": "white",
            "gridwidth": 2,
            "linecolor": "white",
            "showbackground": true,
            "ticks": "",
            "zerolinecolor": "white"
           }
          },
          "shapedefaults": {
           "line": {
            "color": "#2a3f5f"
           }
          },
          "ternary": {
           "aaxis": {
            "gridcolor": "white",
            "linecolor": "white",
            "ticks": ""
           },
           "baxis": {
            "gridcolor": "white",
            "linecolor": "white",
            "ticks": ""
           },
           "bgcolor": "#E5ECF6",
           "caxis": {
            "gridcolor": "white",
            "linecolor": "white",
            "ticks": ""
           }
          },
          "title": {
           "x": 0.05
          },
          "xaxis": {
           "automargin": true,
           "gridcolor": "white",
           "linecolor": "white",
           "ticks": "",
           "title": {
            "standoff": 15
           },
           "zerolinecolor": "white",
           "zerolinewidth": 2
          },
          "yaxis": {
           "automargin": true,
           "gridcolor": "white",
           "linecolor": "white",
           "ticks": "",
           "title": {
            "standoff": 15
           },
           "zerolinecolor": "white",
           "zerolinewidth": 2
          }
         }
        },
        "title": "Rosenbrock’s function",
        "xaxis": {
         "title": {
          "text": "x1"
         }
        },
        "yaxis": {
         "title": {
          "text": "x2"
         }
        }
       }
      },
      "text/html": [
       "<div\n",
       "    class=\"webio-mountpoint\"\n",
       "    data-webio-mountpoint=\"3153525474366347053\"\n",
       ">\n",
       "    <script>\n",
       "    (function(){\n",
       "    // Some integrations (namely, IJulia/Jupyter) use an alternate render pathway than\n",
       "    // just putting the html on the page. If WebIO isn't defined, then it's pretty likely\n",
       "    // that we're in one of those situations and the integration just isn't installed\n",
       "    // correctly.\n",
       "    if (typeof window.WebIO === \"undefined\") {\n",
       "        document\n",
       "            .querySelector('[data-webio-mountpoint=\"3153525474366347053\"]')\n",
       "            .innerHTML = (\n",
       "                '<div style=\"padding: 1em; background-color: #f8d6da; border: 1px solid #f5c6cb; font-weight: bold;\">' +\n",
       "                '<p><strong>WebIO not detected.</strong></p>' +\n",
       "                '<p>Please read ' +\n",
       "                '<a href=\"https://juliagizmos.github.io/WebIO.jl/latest/troubleshooting/not-detected/\" target=\"_blank\">the troubleshooting guide</a> ' +\n",
       "                'for more information on how to resolve this issue.</p>' +\n",
       "                '<p><a href=\"https://juliagizmos.github.io/WebIO.jl/latest/troubleshooting/not-detected/\" target=\"_blank\">https://juliagizmos.github.io/WebIO.jl/latest/troubleshooting/not-detected/</a></p>' +\n",
       "                '</div>'\n",
       "            );\n",
       "        return;\n",
       "    }\n",
       "    WebIO.mount(\n",
       "        document.querySelector('[data-webio-mountpoint=\"3153525474366347053\"]'),\n",
       "        {\"props\":{},\"nodeType\":\"Scope\",\"type\":\"node\",\"instanceArgs\":{\"imports\":{\"data\":[{\"name\":\"Plotly\",\"type\":\"js\",\"url\":\"\\/assetserver\\/5b3939436337838b354347cfaa22b7bc3003989a-plotly.min.js\"},{\"name\":null,\"type\":\"js\",\"url\":\"\\/assetserver\\/b357b64ea29adbbd84741a1633d18b55a8f7fce1-plotly_webio.bundle.js\"}],\"type\":\"async_block\"},\"id\":\"4149683177053155188\",\"handlers\":{\"_toImage\":[\"(function (options){return this.Plotly.toImage(this.plotElem,options).then((function (data){return WebIO.setval({\\\"name\\\":\\\"image\\\",\\\"scope\\\":\\\"4149683177053155188\\\",\\\"id\\\":\\\"17529473631432363076\\\",\\\"type\\\":\\\"observable\\\"},data)}))})\"],\"__get_gd_contents\":[\"(function (prop){prop==\\\"data\\\" ? (WebIO.setval({\\\"name\\\":\\\"__gd_contents\\\",\\\"scope\\\":\\\"4149683177053155188\\\",\\\"id\\\":\\\"4885628995383222789\\\",\\\"type\\\":\\\"observable\\\"},this.plotElem.data)) : undefined; return prop==\\\"layout\\\" ? (WebIO.setval({\\\"name\\\":\\\"__gd_contents\\\",\\\"scope\\\":\\\"4149683177053155188\\\",\\\"id\\\":\\\"4885628995383222789\\\",\\\"type\\\":\\\"observable\\\"},this.plotElem.layout)) : undefined})\"],\"_downloadImage\":[\"(function (options){return this.Plotly.downloadImage(this.plotElem,options)})\"],\"_commands\":[\"(function (args){var fn=args.shift(); var elem=this.plotElem; var Plotly=this.Plotly; args.unshift(elem); return Plotly[fn].apply(this,args)})\"]},\"systemjs_options\":null,\"mount_callbacks\":[\"function () {\\n    var handler = ((function (Plotly,PlotlyWebIO){PlotlyWebIO.init(WebIO); var gd=this.dom.querySelector(\\\"#plot-8968ce07-c47f-427b-8154-1c10b2fcee15\\\"); this.plotElem=gd; this.Plotly=Plotly; (window.Blink!==undefined) ? (gd.style.width=\\\"100%\\\", gd.style.height=\\\"100vh\\\", gd.style.marginLeft=\\\"0%\\\", gd.style.marginTop=\\\"0vh\\\") : undefined; window.onresize=(function (){return Plotly.Plots.resize(gd)}); Plotly.newPlot(gd,[{\\\"line\\\":{\\\"width\\\":2},\\\"y\\\":[-1.5,-1.2,-0.9,-0.6,-0.3,0.0,0.3,0.6,0.9,1.2,1.5],\\\"type\\\":\\\"contour\\\",\\\"contours\\\":{\\\"labelfont\\\":{\\\"color\\\":\\\"white\\\",\\\"size\\\":12},\\\"showlabels\\\":true,\\\"coloring\\\":\\\"heatmap\\\"},\\\"z\\\":[[1412.5,869.200046596527,537.2199623727798,348.51999725341796,254.50000140428543,226.0,253.3000013566017,346.1199971580505,533.6199624681473,864.4000464057922,1406.5],[1196.500015258789,701.8000679588317,407.6200096750259,245.9200188064575,168.10001704454422,145.0000057220459,166.9000169968605,243.52001871109007,404.02000977039336,697.0000677680969,1190.500015258789],[998.5000610351562,552.4000721549987,296.0199682855606,161.31999935150145,99.70000359773636,81.9999942779541,98.50000355005264,158.91999925613402,292.419968380928,547.6000719642639,992.5000610351562],[818.4999465942383,420.99996381759644,202.41999317646025,94.72000445365906,49.300008747577664,37.000001430511475,48.10000869989395,92.32000435829163,198.81999327182768,416.1999636268616,812.4999465942383],[656.4999580383301,307.60000520706177,126.81997705936432,46.12000431060791,16.90000120162964,10.000000357627869,15.700001153945923,43.72000421524048,123.21997715473175,302.8000050163269,650.4999580383301],[512.5,212.2000055885315,69.2199914598465,15.520000412464142,2.5000000520050527,1.0,1.3000000043213369,13.12000031709671,65.61999155521393,207.40000539779663,506.5],[386.5000247955322,134.8000245666504,29.61999167442322,2.9200000933930284,6.1000005489587785,10.000000357627869,4.900000501275063,0.5199999980255967,26.01999176979065,130.00002437591553,380.5000247955322],[278.49998474121094,75.40000849723816,8.019996329545975,8.320000349879265,27.69999775648117,37.000001430511475,26.499997708797455,5.920000254511834,4.419996424913407,70.6000083065033,272.49998474121094],[188.50001096725464,34.00000804424286,4.420000489205123,31.7199959897995,67.29999158143997,81.9999942779541,66.09999153375625,29.31999589443207,0.8200005845725542,29.200007853507998,182.50001096725464],[116.49998426437378,10.600000483393671,18.82000853061676,73.12000836372376,124.9000010228157,145.0000057220459,123.70000097513199,70.72000826835632,15.220008625984192,5.800000292658808,110.49998426437378],[62.5,5.199999528415503,51.22000862598419,132.52000059127806,200.49999329805374,226.0,199.29999325037002,130.12000049591063,47.620008721351624,0.3999993376806401,56.5]],\\\"transpose\\\":true,\\\"x\\\":[-1.5,-1.2,-0.9,-0.6,-0.3,0.0,0.3,0.6,0.9,1.2,1.5]},{\\\"showlegend\\\":false,\\\"mode\\\":\\\"markers+lines\\\",\\\"line\\\":{\\\"color\\\":\\\"black\\\"},\\\"y\\\":[0.9627677544110731,0.11867994531271409],\\\"type\\\":\\\"scatter\\\",\\\"x\\\":[-0.48993012686076465,-0.7790026144206841]},{\\\"showlegend\\\":false,\\\"mode\\\":\\\"markers+lines\\\",\\\"line\\\":{\\\"color\\\":\\\"black\\\"},\\\"y\\\":[1.0284222436351078,0.14658808251570787],\\\"type\\\":\\\"scatter\\\",\\\"x\\\":[-0.2944566095565206,-0.37239833237751757]},{\\\"showlegend\\\":false,\\\"mode\\\":\\\"markers+lines\\\",\\\"line\\\":{\\\"color\\\":\\\"black\\\"},\\\"y\\\":[-0.10287435201396039,0.007803260170605078],\\\"type\\\":\\\"scatter\\\",\\\"x\\\":[1.4175309969426104,-0.07040497078645454]}],{\\\"xaxis\\\":{\\\"title\\\":{\\\"text\\\":\\\"x1\\\"}},\\\"template\\\":{\\\"layout\\\":{\\\"coloraxis\\\":{\\\"colorbar\\\":{\\\"ticks\\\":\\\"\\\",\\\"outlinewidth\\\":0}},\\\"xaxis\\\":{\\\"gridcolor\\\":\\\"white\\\",\\\"zerolinewidth\\\":2,\\\"title\\\":{\\\"standoff\\\":15},\\\"ticks\\\":\\\"\\\",\\\"zerolinecolor\\\":\\\"white\\\",\\\"automargin\\\":true,\\\"linecolor\\\":\\\"white\\\"},\\\"hovermode\\\":\\\"closest\\\",\\\"paper_bgcolor\\\":\\\"white\\\",\\\"geo\\\":{\\\"showlakes\\\":true,\\\"showland\\\":true,\\\"landcolor\\\":\\\"#E5ECF6\\\",\\\"bgcolor\\\":\\\"white\\\",\\\"subunitcolor\\\":\\\"white\\\",\\\"lakecolor\\\":\\\"white\\\"},\\\"colorscale\\\":{\\\"sequential\\\":[[0.0,\\\"#0d0887\\\"],[0.1111111111111111,\\\"#46039f\\\"],[0.2222222222222222,\\\"#7201a8\\\"],[0.3333333333333333,\\\"#9c179e\\\"],[0.4444444444444444,\\\"#bd3786\\\"],[0.5555555555555556,\\\"#d8576b\\\"],[0.6666666666666666,\\\"#ed7953\\\"],[0.7777777777777778,\\\"#fb9f3a\\\"],[0.8888888888888888,\\\"#fdca26\\\"],[1.0,\\\"#f0f921\\\"]],\\\"diverging\\\":[[0,\\\"#8e0152\\\"],[0.1,\\\"#c51b7d\\\"],[0.2,\\\"#de77ae\\\"],[0.3,\\\"#f1b6da\\\"],[0.4,\\\"#fde0ef\\\"],[0.5,\\\"#f7f7f7\\\"],[0.6,\\\"#e6f5d0\\\"],[0.7,\\\"#b8e186\\\"],[0.8,\\\"#7fbc41\\\"],[0.9,\\\"#4d9221\\\"],[1,\\\"#276419\\\"]],\\\"sequentialminus\\\":[[0.0,\\\"#0d0887\\\"],[0.1111111111111111,\\\"#46039f\\\"],[0.2222222222222222,\\\"#7201a8\\\"],[0.3333333333333333,\\\"#9c179e\\\"],[0.4444444444444444,\\\"#bd3786\\\"],[0.5555555555555556,\\\"#d8576b\\\"],[0.6666666666666666,\\\"#ed7953\\\"],[0.7777777777777778,\\\"#fb9f3a\\\"],[0.8888888888888888,\\\"#fdca26\\\"],[1.0,\\\"#f0f921\\\"]]},\\\"yaxis\\\":{\\\"gridcolor\\\":\\\"white\\\",\\\"zerolinewidth\\\":2,\\\"title\\\":{\\\"standoff\\\":15},\\\"ticks\\\":\\\"\\\",\\\"zerolinecolor\\\":\\\"white\\\",\\\"automargin\\\":true,\\\"linecolor\\\":\\\"white\\\"},\\\"shapedefaults\\\":{\\\"line\\\":{\\\"color\\\":\\\"#2a3f5f\\\"}},\\\"hoverlabel\\\":{\\\"align\\\":\\\"left\\\"},\\\"mapbox\\\":{\\\"style\\\":\\\"light\\\"},\\\"polar\\\":{\\\"angularaxis\\\":{\\\"gridcolor\\\":\\\"white\\\",\\\"ticks\\\":\\\"\\\",\\\"linecolor\\\":\\\"white\\\"},\\\"bgcolor\\\":\\\"#E5ECF6\\\",\\\"radialaxis\\\":{\\\"gridcolor\\\":\\\"white\\\",\\\"ticks\\\":\\\"\\\",\\\"linecolor\\\":\\\"white\\\"}},\\\"autotypenumbers\\\":\\\"strict\\\",\\\"font\\\":{\\\"color\\\":\\\"#2a3f5f\\\"},\\\"ternary\\\":{\\\"baxis\\\":{\\\"gridcolor\\\":\\\"white\\\",\\\"ticks\\\":\\\"\\\",\\\"linecolor\\\":\\\"white\\\"},\\\"bgcolor\\\":\\\"#E5ECF6\\\",\\\"caxis\\\":{\\\"gridcolor\\\":\\\"white\\\",\\\"ticks\\\":\\\"\\\",\\\"linecolor\\\":\\\"white\\\"},\\\"aaxis\\\":{\\\"gridcolor\\\":\\\"white\\\",\\\"ticks\\\":\\\"\\\",\\\"linecolor\\\":\\\"white\\\"}},\\\"annotationdefaults\\\":{\\\"arrowhead\\\":0,\\\"arrowwidth\\\":1,\\\"arrowcolor\\\":\\\"#2a3f5f\\\"},\\\"plot_bgcolor\\\":\\\"#E5ECF6\\\",\\\"title\\\":{\\\"x\\\":0.05},\\\"scene\\\":{\\\"xaxis\\\":{\\\"gridcolor\\\":\\\"white\\\",\\\"gridwidth\\\":2,\\\"backgroundcolor\\\":\\\"#E5ECF6\\\",\\\"ticks\\\":\\\"\\\",\\\"showbackground\\\":true,\\\"zerolinecolor\\\":\\\"white\\\",\\\"linecolor\\\":\\\"white\\\"},\\\"zaxis\\\":{\\\"gridcolor\\\":\\\"white\\\",\\\"gridwidth\\\":2,\\\"backgroundcolor\\\":\\\"#E5ECF6\\\",\\\"ticks\\\":\\\"\\\",\\\"showbackground\\\":true,\\\"zerolinecolor\\\":\\\"white\\\",\\\"linecolor\\\":\\\"white\\\"},\\\"yaxis\\\":{\\\"gridcolor\\\":\\\"white\\\",\\\"gridwidth\\\":2,\\\"backgroundcolor\\\":\\\"#E5ECF6\\\",\\\"ticks\\\":\\\"\\\",\\\"showbackground\\\":true,\\\"zerolinecolor\\\":\\\"white\\\",\\\"linecolor\\\":\\\"white\\\"}},\\\"colorway\\\":[\\\"#636efa\\\",\\\"#EF553B\\\",\\\"#00cc96\\\",\\\"#ab63fa\\\",\\\"#FFA15A\\\",\\\"#19d3f3\\\",\\\"#FF6692\\\",\\\"#B6E880\\\",\\\"#FF97FF\\\",\\\"#FECB52\\\"]},\\\"data\\\":{\\\"barpolar\\\":[{\\\"type\\\":\\\"barpolar\\\",\\\"marker\\\":{\\\"line\\\":{\\\"color\\\":\\\"#E5ECF6\\\",\\\"width\\\":0.5}}}],\\\"carpet\\\":[{\\\"aaxis\\\":{\\\"gridcolor\\\":\\\"white\\\",\\\"endlinecolor\\\":\\\"#2a3f5f\\\",\\\"minorgridcolor\\\":\\\"white\\\",\\\"startlinecolor\\\":\\\"#2a3f5f\\\",\\\"linecolor\\\":\\\"white\\\"},\\\"type\\\":\\\"carpet\\\",\\\"baxis\\\":{\\\"gridcolor\\\":\\\"white\\\",\\\"endlinecolor\\\":\\\"#2a3f5f\\\",\\\"minorgridcolor\\\":\\\"white\\\",\\\"startlinecolor\\\":\\\"#2a3f5f\\\",\\\"linecolor\\\":\\\"white\\\"}}],\\\"scatterpolar\\\":[{\\\"type\\\":\\\"scatterpolar\\\",\\\"marker\\\":{\\\"colorbar\\\":{\\\"ticks\\\":\\\"\\\",\\\"outlinewidth\\\":0}}}],\\\"parcoords\\\":[{\\\"line\\\":{\\\"colorbar\\\":{\\\"ticks\\\":\\\"\\\",\\\"outlinewidth\\\":0}},\\\"type\\\":\\\"parcoords\\\"}],\\\"scatter\\\":[{\\\"type\\\":\\\"scatter\\\",\\\"marker\\\":{\\\"colorbar\\\":{\\\"ticks\\\":\\\"\\\",\\\"outlinewidth\\\":0}}}],\\\"histogram2dcontour\\\":[{\\\"colorbar\\\":{\\\"ticks\\\":\\\"\\\",\\\"outlinewidth\\\":0},\\\"type\\\":\\\"histogram2dcontour\\\",\\\"colorscale\\\":[[0.0,\\\"#0d0887\\\"],[0.1111111111111111,\\\"#46039f\\\"],[0.2222222222222222,\\\"#7201a8\\\"],[0.3333333333333333,\\\"#9c179e\\\"],[0.4444444444444444,\\\"#bd3786\\\"],[0.5555555555555556,\\\"#d8576b\\\"],[0.6666666666666666,\\\"#ed7953\\\"],[0.7777777777777778,\\\"#fb9f3a\\\"],[0.8888888888888888,\\\"#fdca26\\\"],[1.0,\\\"#f0f921\\\"]]}],\\\"contour\\\":[{\\\"colorbar\\\":{\\\"ticks\\\":\\\"\\\",\\\"outlinewidth\\\":0},\\\"type\\\":\\\"contour\\\",\\\"colorscale\\\":[[0.0,\\\"#0d0887\\\"],[0.1111111111111111,\\\"#46039f\\\"],[0.2222222222222222,\\\"#7201a8\\\"],[0.3333333333333333,\\\"#9c179e\\\"],[0.4444444444444444,\\\"#bd3786\\\"],[0.5555555555555556,\\\"#d8576b\\\"],[0.6666666666666666,\\\"#ed7953\\\"],[0.7777777777777778,\\\"#fb9f3a\\\"],[0.8888888888888888,\\\"#fdca26\\\"],[1.0,\\\"#f0f921\\\"]]}],\\\"scattercarpet\\\":[{\\\"type\\\":\\\"scattercarpet\\\",\\\"marker\\\":{\\\"colorbar\\\":{\\\"ticks\\\":\\\"\\\",\\\"outlinewidth\\\":0}}}],\\\"mesh3d\\\":[{\\\"colorbar\\\":{\\\"ticks\\\":\\\"\\\",\\\"outlinewidth\\\":0},\\\"type\\\":\\\"mesh3d\\\"}],\\\"surface\\\":[{\\\"colorbar\\\":{\\\"ticks\\\":\\\"\\\",\\\"outlinewidth\\\":0},\\\"type\\\":\\\"surface\\\",\\\"colorscale\\\":[[0.0,\\\"#0d0887\\\"],[0.1111111111111111,\\\"#46039f\\\"],[0.2222222222222222,\\\"#7201a8\\\"],[0.3333333333333333,\\\"#9c179e\\\"],[0.4444444444444444,\\\"#bd3786\\\"],[0.5555555555555556,\\\"#d8576b\\\"],[0.6666666666666666,\\\"#ed7953\\\"],[0.7777777777777778,\\\"#fb9f3a\\\"],[0.8888888888888888,\\\"#fdca26\\\"],[1.0,\\\"#f0f921\\\"]]}],\\\"scattermapbox\\\":[{\\\"type\\\":\\\"scattermapbox\\\",\\\"marker\\\":{\\\"colorbar\\\":{\\\"ticks\\\":\\\"\\\",\\\"outlinewidth\\\":0}}}],\\\"scattergeo\\\":[{\\\"type\\\":\\\"scattergeo\\\",\\\"marker\\\":{\\\"colorbar\\\":{\\\"ticks\\\":\\\"\\\",\\\"outlinewidth\\\":0}}}],\\\"histogram\\\":[{\\\"type\\\":\\\"histogram\\\",\\\"marker\\\":{\\\"colorbar\\\":{\\\"ticks\\\":\\\"\\\",\\\"outlinewidth\\\":0}}}],\\\"pie\\\":[{\\\"type\\\":\\\"pie\\\",\\\"automargin\\\":true}],\\\"choropleth\\\":[{\\\"colorbar\\\":{\\\"ticks\\\":\\\"\\\",\\\"outlinewidth\\\":0},\\\"type\\\":\\\"choropleth\\\"}],\\\"heatmapgl\\\":[{\\\"colorbar\\\":{\\\"ticks\\\":\\\"\\\",\\\"outlinewidth\\\":0},\\\"type\\\":\\\"heatmapgl\\\",\\\"colorscale\\\":[[0.0,\\\"#0d0887\\\"],[0.1111111111111111,\\\"#46039f\\\"],[0.2222222222222222,\\\"#7201a8\\\"],[0.3333333333333333,\\\"#9c179e\\\"],[0.4444444444444444,\\\"#bd3786\\\"],[0.5555555555555556,\\\"#d8576b\\\"],[0.6666666666666666,\\\"#ed7953\\\"],[0.7777777777777778,\\\"#fb9f3a\\\"],[0.8888888888888888,\\\"#fdca26\\\"],[1.0,\\\"#f0f921\\\"]]}],\\\"bar\\\":[{\\\"type\\\":\\\"bar\\\",\\\"error_y\\\":{\\\"color\\\":\\\"#2a3f5f\\\"},\\\"error_x\\\":{\\\"color\\\":\\\"#2a3f5f\\\"},\\\"marker\\\":{\\\"line\\\":{\\\"color\\\":\\\"#E5ECF6\\\",\\\"width\\\":0.5}}}],\\\"heatmap\\\":[{\\\"colorbar\\\":{\\\"ticks\\\":\\\"\\\",\\\"outlinewidth\\\":0},\\\"type\\\":\\\"heatmap\\\",\\\"colorscale\\\":[[0.0,\\\"#0d0887\\\"],[0.1111111111111111,\\\"#46039f\\\"],[0.2222222222222222,\\\"#7201a8\\\"],[0.3333333333333333,\\\"#9c179e\\\"],[0.4444444444444444,\\\"#bd3786\\\"],[0.5555555555555556,\\\"#d8576b\\\"],[0.6666666666666666,\\\"#ed7953\\\"],[0.7777777777777778,\\\"#fb9f3a\\\"],[0.8888888888888888,\\\"#fdca26\\\"],[1.0,\\\"#f0f921\\\"]]}],\\\"contourcarpet\\\":[{\\\"colorbar\\\":{\\\"ticks\\\":\\\"\\\",\\\"outlinewidth\\\":0},\\\"type\\\":\\\"contourcarpet\\\"}],\\\"table\\\":[{\\\"type\\\":\\\"table\\\",\\\"header\\\":{\\\"line\\\":{\\\"color\\\":\\\"white\\\"},\\\"fill\\\":{\\\"color\\\":\\\"#C8D4E3\\\"}},\\\"cells\\\":{\\\"line\\\":{\\\"color\\\":\\\"white\\\"},\\\"fill\\\":{\\\"color\\\":\\\"#EBF0F8\\\"}}}],\\\"scatter3d\\\":[{\\\"line\\\":{\\\"colorbar\\\":{\\\"ticks\\\":\\\"\\\",\\\"outlinewidth\\\":0}},\\\"type\\\":\\\"scatter3d\\\",\\\"marker\\\":{\\\"colorbar\\\":{\\\"ticks\\\":\\\"\\\",\\\"outlinewidth\\\":0}}}],\\\"scattergl\\\":[{\\\"type\\\":\\\"scattergl\\\",\\\"marker\\\":{\\\"colorbar\\\":{\\\"ticks\\\":\\\"\\\",\\\"outlinewidth\\\":0}}}],\\\"histogram2d\\\":[{\\\"colorbar\\\":{\\\"ticks\\\":\\\"\\\",\\\"outlinewidth\\\":0},\\\"type\\\":\\\"histogram2d\\\",\\\"colorscale\\\":[[0.0,\\\"#0d0887\\\"],[0.1111111111111111,\\\"#46039f\\\"],[0.2222222222222222,\\\"#7201a8\\\"],[0.3333333333333333,\\\"#9c179e\\\"],[0.4444444444444444,\\\"#bd3786\\\"],[0.5555555555555556,\\\"#d8576b\\\"],[0.6666666666666666,\\\"#ed7953\\\"],[0.7777777777777778,\\\"#fb9f3a\\\"],[0.8888888888888888,\\\"#fdca26\\\"],[1.0,\\\"#f0f921\\\"]]}],\\\"scatterternary\\\":[{\\\"type\\\":\\\"scatterternary\\\",\\\"marker\\\":{\\\"colorbar\\\":{\\\"ticks\\\":\\\"\\\",\\\"outlinewidth\\\":0}}}],\\\"scatterpolargl\\\":[{\\\"type\\\":\\\"scatterpolargl\\\",\\\"marker\\\":{\\\"colorbar\\\":{\\\"ticks\\\":\\\"\\\",\\\"outlinewidth\\\":0}}}]}},\\\"margin\\\":{\\\"l\\\":50,\\\"b\\\":50,\\\"r\\\":50,\\\"t\\\":60},\\\"title\\\":\\\"Rosenbrock’s function\\\",\\\"yaxis\\\":{\\\"title\\\":{\\\"text\\\":\\\"x2\\\"}}},{\\\"showLink\\\":false,\\\"editable\\\":false,\\\"responsive\\\":true,\\\"staticPlot\\\":false,\\\"scrollZoom\\\":true}); gd.on(\\\"plotly_hover\\\",(function (data){var filtered_data=WebIO.PlotlyCommands.filterEventData(gd,data,\\\"hover\\\"); return !(filtered_data.isnil) ? (WebIO.setval({\\\"name\\\":\\\"hover\\\",\\\"scope\\\":\\\"4149683177053155188\\\",\\\"id\\\":\\\"1892626221399266605\\\",\\\"type\\\":\\\"observable\\\"},filtered_data.out)) : undefined})); gd.on(\\\"plotly_unhover\\\",(function (){return WebIO.setval({\\\"name\\\":\\\"hover\\\",\\\"scope\\\":\\\"4149683177053155188\\\",\\\"id\\\":\\\"1892626221399266605\\\",\\\"type\\\":\\\"observable\\\"},{})})); gd.on(\\\"plotly_selected\\\",(function (data){var filtered_data=WebIO.PlotlyCommands.filterEventData(gd,data,\\\"selected\\\"); return !(filtered_data.isnil) ? (WebIO.setval({\\\"name\\\":\\\"selected\\\",\\\"scope\\\":\\\"4149683177053155188\\\",\\\"id\\\":\\\"2582747103054754083\\\",\\\"type\\\":\\\"observable\\\"},filtered_data.out)) : undefined})); gd.on(\\\"plotly_deselect\\\",(function (){return WebIO.setval({\\\"name\\\":\\\"selected\\\",\\\"scope\\\":\\\"4149683177053155188\\\",\\\"id\\\":\\\"2582747103054754083\\\",\\\"type\\\":\\\"observable\\\"},{})})); gd.on(\\\"plotly_relayout\\\",(function (data){var filtered_data=WebIO.PlotlyCommands.filterEventData(gd,data,\\\"relayout\\\"); return !(filtered_data.isnil) ? (WebIO.setval({\\\"name\\\":\\\"relayout\\\",\\\"scope\\\":\\\"4149683177053155188\\\",\\\"id\\\":\\\"6131539929110355878\\\",\\\"type\\\":\\\"observable\\\"},filtered_data.out)) : undefined})); return gd.on(\\\"plotly_click\\\",(function (data){var filtered_data=WebIO.PlotlyCommands.filterEventData(gd,data,\\\"click\\\"); return !(filtered_data.isnil) ? (WebIO.setval({\\\"name\\\":\\\"click\\\",\\\"scope\\\":\\\"4149683177053155188\\\",\\\"id\\\":\\\"283337131293483888\\\",\\\"type\\\":\\\"observable\\\"},filtered_data.out)) : undefined}))}));\\n    (WebIO.importBlock({\\\"data\\\":[{\\\"name\\\":\\\"Plotly\\\",\\\"type\\\":\\\"js\\\",\\\"url\\\":\\\"\\/assetserver\\/5b3939436337838b354347cfaa22b7bc3003989a-plotly.min.js\\\"},{\\\"name\\\":null,\\\"type\\\":\\\"js\\\",\\\"url\\\":\\\"\\/assetserver\\/b357b64ea29adbbd84741a1633d18b55a8f7fce1-plotly_webio.bundle.js\\\"}],\\\"type\\\":\\\"async_block\\\"})).then((imports) => handler.apply(this, imports));\\n}\\n\"],\"observables\":{\"_toImage\":{\"sync\":false,\"id\":\"3238658553001800065\",\"value\":{}},\"hover\":{\"sync\":false,\"id\":\"1892626221399266605\",\"value\":{}},\"selected\":{\"sync\":false,\"id\":\"2582747103054754083\",\"value\":{}},\"__gd_contents\":{\"sync\":false,\"id\":\"4885628995383222789\",\"value\":{}},\"click\":{\"sync\":false,\"id\":\"283337131293483888\",\"value\":{}},\"image\":{\"sync\":true,\"id\":\"17529473631432363076\",\"value\":\"\"},\"__get_gd_contents\":{\"sync\":false,\"id\":\"1527167423947673263\",\"value\":\"\"},\"_downloadImage\":{\"sync\":false,\"id\":\"267350537160852258\",\"value\":{}},\"relayout\":{\"sync\":false,\"id\":\"6131539929110355878\",\"value\":{}},\"_commands\":{\"sync\":false,\"id\":\"15714626304785188190\",\"value\":[]}}},\"children\":[{\"props\":{\"id\":\"plot-8968ce07-c47f-427b-8154-1c10b2fcee15\"},\"nodeType\":\"DOM\",\"type\":\"node\",\"instanceArgs\":{\"namespace\":\"html\",\"tag\":\"div\"},\"children\":[]}]},\n",
       "        window,\n",
       "    );\n",
       "    })()\n",
       "    </script>\n",
       "</div>\n"
      ],
      "text/plain": [
       "data: [\n",
       "  \"contour with fields contours, line, transpose, type, x, y, and z\",\n",
       "  \"scatter with fields line, mode, showlegend, type, x, and y\",\n",
       "  \"scatter with fields line, mode, showlegend, type, x, and y\",\n",
       "  \"scatter with fields line, mode, showlegend, type, x, and y\"\n",
       "]\n",
       "\n",
       "layout: \"layout with fields margin, template, title, xaxis, and yaxis\"\n",
       "\n"
      ]
     },
     "metadata": {},
     "output_type": "display_data"
    },
    {
     "name": "stderr",
     "output_type": "stream",
     "text": [
      "┌ Warning: Kaleido is not available on this system. Julia will be unable to save images of any plots.\n",
      "└ @ PlotlyJS /Users/julietnwagwuume-ezeoke/.julia/packages/PlotlyJS/4jzLr/src/kaleido.jl:65\n",
      "┌ Warning: UndefVarError(:artifact_dir)\n",
      "└ @ PlotlyJS /Users/julietnwagwuume-ezeoke/.julia/packages/PlotlyJS/4jzLr/src/kaleido.jl:66\n",
      "┌ Warning: Kaleido is not available on this system. Julia will be unable to save images of any plots.\n",
      "└ @ PlotlyJS /Users/julietnwagwuume-ezeoke/.julia/packages/PlotlyJS/4jzLr/src/kaleido.jl:65\n",
      "┌ Warning: UndefVarError(:artifact_dir)\n",
      "└ @ PlotlyJS /Users/julietnwagwuume-ezeoke/.julia/packages/PlotlyJS/4jzLr/src/kaleido.jl:66\n"
     ]
    }
   ],
   "source": [
    "trace0 = make_trace([-0.48993012686076465, 0.9627677544110731],[-0.7790026144206841, 0.11867994531271409] )\n",
    "\n",
    "trace1 = make_trace([-0.2944566095565206, 1.0284222436351078], [-0.37239833237751757, 0.14658808251570787])\n",
    "\n",
    "trace2 = make_trace([1.4175309969426104, -0.10287435201396039], [-0.07040497078645454, 0.007803260170605078])\n",
    "\n",
    "layout = Layout(\n",
    "    title=\"Rosenbrock’s function\",\n",
    "    xaxis_title=\"x1\",\n",
    "    yaxis_title=\"x2\",\n",
    ")\n",
    "\n",
    "\n",
    "myplot = PlotlyJS.plot([mycontour, trace0, trace1, trace2\n",
    "], layout)\n",
    "# PlotlyJS.addtraces!(myplot, trace1)\n",
    "myplot\n",
    "# PlotlyJS.plot(t)\n"
   ]
  },
  {
   "cell_type": "code",
   "execution_count": 158,
   "metadata": {},
   "outputs": [],
   "source": []
  },
  {
   "cell_type": "code",
   "execution_count": 109,
   "metadata": {},
   "outputs": [
    {
     "data": {
      "text/plain": [
       "\"Hello 2, 16 !\""
      ]
     },
     "metadata": {},
     "output_type": "display_data"
    }
   ],
   "source": [
    "# string interpolation \n",
    "x = 2\n",
    "y = 4\n",
    "\"Hello $x, $(y^2) !\""
   ]
  },
  {
   "cell_type": "code",
   "execution_count": null,
   "metadata": {},
   "outputs": [],
   "source": [
    "data = rand(Float64, (100, 5))\n",
    "r_range = 10:10:90\n",
    "\n",
    "\n",
    "for idx in 1:size(data)[2]\n",
    "    push!(traces, scatter(x=r_range,\n",
    "                         y=data[:,idx],\n",
    "                        mode=\"lines\",\n",
    "                        name = \"$idx\")\n",
    "end\n",
    "\n",
    "plot_size = 800\n",
    "\n",
    "layout = Layout(\n",
    "    xaxis_label = \"x\",\n",
    "    yaxis_label = \"y\",\n",
    "    font = attr(size=16),\n",
    "    width=plot_size, height=plot_size,\n",
    "    template = \"plotly_white\"\n",
    ")\n"
   ]
  },
  {
   "cell_type": "code",
   "execution_count": 181,
   "metadata": {},
   "outputs": [
    {
     "data": {
      "text/plain": [
       "10-element Vector{Int64}:\n",
       " 2\n",
       " 2\n",
       " 2\n",
       " 2\n",
       " 2\n",
       " 2\n",
       " 2\n",
       " 2\n",
       " 2\n",
       " 2"
      ]
     },
     "metadata": {},
     "output_type": "display_data"
    }
   ],
   "source": [
    "a = map(1:10) do aᵢ\n",
    "    1 +1\n",
    "end\n",
    "a"
   ]
  }
 ],
 "metadata": {
  "kernelspec": {
   "display_name": "Julia 1.7.2",
   "language": "julia",
   "name": "julia-1.7"
  },
  "language_info": {
   "file_extension": ".jl",
   "mimetype": "application/julia",
   "name": "julia",
   "version": "1.7.2"
  },
  "orig_nbformat": 4
 },
 "nbformat": 4,
 "nbformat_minor": 2
}
